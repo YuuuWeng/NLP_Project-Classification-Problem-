{
 "cells": [
  {
   "cell_type": "code",
   "execution_count": 21,
   "metadata": {},
   "outputs": [],
   "source": [
    "import json\n",
    "import os\n",
    "import time\n",
    "import re\n",
    "import pandas as pd\n",
    "import string\n"
   ]
  },
  {
   "cell_type": "code",
   "execution_count": 22,
   "metadata": {},
   "outputs": [],
   "source": [
    "\n",
    "def twitter_feature_selection(json_file):\n",
    "    selected_feature = {}\n",
    "    selected_feature[\"text\"] = json_file[\"text\"]\n",
    "    # selected_feature[\"id\"] = json_file[\"id\"]\n",
    "    selected_feature[\"created_at\"] = json_file[\"created_at\"]\n",
    "    # selected_feature['like_count'] = json_file['public_metrics']['like_count']\n",
    "    selected_feature['retweet_count'] = json_file['public_metrics']['retweet_count']\n",
    "\n",
    "    # selected_feature[\"hashtag\"] = re.search(r'(\\w+)+', json_file[\"text\"])\n",
    "    return selected_feature\n",
    "\n",
    "def test_feature_selection(json_file):\n",
    "    selected_feature = {}\n",
    "    selected_feature[\"text\"] = json_file[\"text\"]\n",
    "    selected_feature[\"created_at\"] = json_file[\"created_at\"]\n",
    "    # selected_feature['retweet_count'] = json_file['retweet_count']\n",
    "\n",
    "    # selected_feature[\"id\"] = json_file[\"id\"]\n",
    "    return selected_feature\n",
    "\n",
    "def convert_label(label):\n",
    "    if label == \"rumour\":\n",
    "        return 1\n",
    "    elif label == \"nonrumour\":\n",
    "        return 0 \n",
    "def merge_dictionary_list(dict_list):\n",
    "      return {\n",
    "    k: [d.get(k) for d in dict_list if k in d]\n",
    "    for k in set().union(*dict_list)\n",
    "  } \n",
    "def remove_unwanted_keys(dict_list, keys):\n",
    "    for item in dict_list:\n",
    "        item.pop(keys, None)\n",
    "    return dict_list"
   ]
  },
  {
   "cell_type": "code",
   "execution_count": 23,
   "metadata": {},
   "outputs": [],
   "source": [
    "def load_data(file_name):\n",
    "    total_json = []\n",
    "    finished_dict = []\n",
    "    with open(\"/Users/yuweng/Desktop/task1/\" + file_name +\".data.txt\", \"r\") as f:\n",
    "        file_name_event = f.readlines()      \n",
    "    for event_str in file_name_event:\n",
    "        event_list = event_str.rstrip().split(\",\")\n",
    "        event_json = []\n",
    "        path = \"/Users/yuweng/Desktop/task1/\" + file_name +'/' + event_list[0] + \".json\"\n",
    "        # print(path)\n",
    "        # print(os.path.exists(path))\n",
    "        if os.path.exists(path):\n",
    "            for id in event_list:\n",
    "                path = \"/Users/yuweng/Desktop/task1/\" + file_name +'/' + id + \".json\"\n",
    "                # print(path)\n",
    "                # print(os.path.exists(path))\n",
    "                if os.path.exists(path):\n",
    "                    related_tweet = json.load(open(path, \"r\"))\n",
    "                    # print(related_tweet)\n",
    "                    event_json.append(test_feature_selection(related_tweet))\n",
    "            event_json = sorted(event_json, key=lambda x: time.mktime(time.strptime(x[\"created_at\"], '%Y-%m-%dT%H:%M:%S.%fZ')))\n",
    "            # print(event_json)\n",
    "            merged_dict = merge_dictionary_list(event_json)\n",
    "            # print(merged_dict)\n",
    "            total_json.append(merged_dict)\n",
    "            # print(total_json)\n",
    "            finished_dict = remove_unwanted_keys(total_json, \"created_at\")\n",
    "    return pd.DataFrame(finished_dict)"
   ]
  },
  {
   "cell_type": "markdown",
   "metadata": {},
   "source": [
    "Load the Required data set"
   ]
  },
  {
   "cell_type": "code",
   "execution_count": 24,
   "metadata": {},
   "outputs": [],
   "source": [
    "# df_train = load_data(\"train\")\n",
    "# df_dev = load_data(\"dev\")\n",
    "df_test = load_data(\"covid\")"
   ]
  },
  {
   "cell_type": "code",
   "execution_count": 25,
   "metadata": {},
   "outputs": [
    {
     "data": {
      "text/html": [
       "<div>\n",
       "<style scoped>\n",
       "    .dataframe tbody tr th:only-of-type {\n",
       "        vertical-align: middle;\n",
       "    }\n",
       "\n",
       "    .dataframe tbody tr th {\n",
       "        vertical-align: top;\n",
       "    }\n",
       "\n",
       "    .dataframe thead th {\n",
       "        text-align: right;\n",
       "    }\n",
       "</style>\n",
       "<table border=\"1\" class=\"dataframe\">\n",
       "  <thead>\n",
       "    <tr style=\"text-align: right;\">\n",
       "      <th></th>\n",
       "      <th>text</th>\n",
       "    </tr>\n",
       "  </thead>\n",
       "  <tbody>\n",
       "    <tr>\n",
       "      <th>0</th>\n",
       "      <td>[According to the New York Times, Warner Bros....</td>\n",
       "    </tr>\n",
       "    <tr>\n",
       "      <th>1</th>\n",
       "      <td>[Hurricane Hanna has made landfall in Texas.\\n...</td>\n",
       "    </tr>\n",
       "    <tr>\n",
       "      <th>2</th>\n",
       "      <td>[Monkeys on the loose in India with stolen cor...</td>\n",
       "    </tr>\n",
       "    <tr>\n",
       "      <th>3</th>\n",
       "      <td>[“If Trump felt comfortable having it here, th...</td>\n",
       "    </tr>\n",
       "    <tr>\n",
       "      <th>4</th>\n",
       "      <td>[DISTURBING: Alabama officials say some studen...</td>\n",
       "    </tr>\n",
       "    <tr>\n",
       "      <th>...</th>\n",
       "      <td>...</td>\n",
       "    </tr>\n",
       "    <tr>\n",
       "      <th>15958</th>\n",
       "      <td>[I wonder how many lives could’ve been saved i...</td>\n",
       "    </tr>\n",
       "    <tr>\n",
       "      <th>15959</th>\n",
       "      <td>[The @thetimes front page on 17th March. The f...</td>\n",
       "    </tr>\n",
       "    <tr>\n",
       "      <th>15960</th>\n",
       "      <td>[Trump just completed the racism trifecta in a...</td>\n",
       "    </tr>\n",
       "    <tr>\n",
       "      <th>15961</th>\n",
       "      <td>[Here are a few of my photographs from today’s...</td>\n",
       "    </tr>\n",
       "    <tr>\n",
       "      <th>15962</th>\n",
       "      <td>[‘IT’S GONE’: Bill De Blasio Says NYC Facing $...</td>\n",
       "    </tr>\n",
       "  </tbody>\n",
       "</table>\n",
       "<p>15963 rows × 1 columns</p>\n",
       "</div>"
      ],
      "text/plain": [
       "                                                    text\n",
       "0      [According to the New York Times, Warner Bros....\n",
       "1      [Hurricane Hanna has made landfall in Texas.\\n...\n",
       "2      [Monkeys on the loose in India with stolen cor...\n",
       "3      [“If Trump felt comfortable having it here, th...\n",
       "4      [DISTURBING: Alabama officials say some studen...\n",
       "...                                                  ...\n",
       "15958  [I wonder how many lives could’ve been saved i...\n",
       "15959  [The @thetimes front page on 17th March. The f...\n",
       "15960  [Trump just completed the racism trifecta in a...\n",
       "15961  [Here are a few of my photographs from today’s...\n",
       "15962  [‘IT’S GONE’: Bill De Blasio Says NYC Facing $...\n",
       "\n",
       "[15963 rows x 1 columns]"
      ]
     },
     "execution_count": 25,
     "metadata": {},
     "output_type": "execute_result"
    }
   ],
   "source": [
    "df_test"
   ]
  },
  {
   "cell_type": "code",
   "execution_count": 26,
   "metadata": {},
   "outputs": [],
   "source": [
    "def text_preprocessing(tweet):\n",
    "    r1 = r'https?:/\\/\\S+'\n",
    "    ## remove @people\n",
    "    r2 = r'@[a-zA-Z0-9’!\"#$%&\\'()*+,-./:;<=>?@，。?★、…？“”‘’！\\\\]+'\n",
    "    ##remove tag\n",
    "    r3 = r'#[a-zA-Z0-9’!\"#$%&\\'()*+,-./:;<=>?@，。?★、…？“”‘’！\\\\]+'\n",
    "\n",
    "    tweet = tweet.encode('utf-8', 'replace').decode('utf-8')\n",
    "    tweet = re.sub(r1, \"\", tweet)\n",
    "    tweet = re.sub(r2, \"\", tweet)\n",
    "    tweet = re.sub(r3, \"\", str(tweet).lower().strip())\n",
    "    return tweet\n",
    "def give_emoji_free_text(text):\n",
    "    emoji_pattern = re.compile(\"[\"\n",
    "        u\"\\U0001F600-\\U0001F64F\" \n",
    "        u\"\\U0001F300-\\U0001F5FF\" \n",
    "        u\"\\U0001F680-\\U0001F6FF\" \n",
    "        u\"\\U0001F1E0-\\U0001F1FF\"\n",
    "        u\"\\U0001F1F2-\\U0001F1F4\"  \n",
    "        u\"\\U0001F1E6-\\U0001F1FF\" \n",
    "        u\"\\U0001F600-\\U0001F64F\"\n",
    "        u\"\\U00002702-\\U000027B0\"\n",
    "        u\"\\U000024C2-\\U0001F251\"\n",
    "        u\"\\U0001f926-\\U0001f937\"\n",
    "        u\"\\U0001F1F2\"\n",
    "        u\"\\U0001F1F4\"\n",
    "        u\"\\U0001F620\"\n",
    "        u\"\\u200d\"\n",
    "        u\"\\u2640-\\u2642\"\n",
    "        \"]+\", flags=re.UNICODE)\n",
    "    return emoji_pattern.sub(r'', text)\n",
    "\n",
    "def remove_URL(text):\n",
    "    url = re.compile(r'https?://\\S+|www\\.\\S+')\n",
    "    return url.sub(r'', text)\n",
    "def remove_html(text):\n",
    "    html = re.compile(r'<.*?>|&([a-z0-9]+|#[0-9]{1,6}|#x[0-9a-f]{1,6});')\n",
    "    return re.sub(html, '', text)\n",
    "def remove_punct(text):\n",
    "    table = str.maketrans('', '', string.punctuation)\n",
    "    return text.translate(table).strip()\n"
   ]
  },
  {
   "cell_type": "markdown",
   "metadata": {},
   "source": [
    "Join the Text together and do the data preprocessing"
   ]
  },
  {
   "cell_type": "code",
   "execution_count": 27,
   "metadata": {},
   "outputs": [],
   "source": [
    "# df_dev['text'][15]"
   ]
  },
  {
   "cell_type": "code",
   "execution_count": 28,
   "metadata": {},
   "outputs": [],
   "source": [
    "# df_train['text'] = df_train.apply(lambda x:text_preprocessing(''.join(x[\"text\"])),axis=1)\n",
    "# df_train['text'] = df_train['text'].apply(lambda x:x.lower().replace('\\n',''))\n",
    "# df_train['text'] = df_train['text'].apply(lambda x:give_emoji_free_text(x))\n",
    "# df_train['label'] = df_train.apply(lambda x:x[\"label\"][0],axis=1)\n",
    "# df_train['label'] = df_train['label'].astype('int')\n",
    "# df_train['retweet_count'] = df_train.apply(lambda x:sum(x[\"retweet_count\"]),axis=1)\n",
    "\n",
    "# df_dev['text'] = df_dev.apply(lambda x:text_preprocessing(''.join(x[\"text\"])),axis=1)\n",
    "# df_dev['text'] = df_dev['text'].apply(lambda x:x.lower().replace('\\n',''))\n",
    "# df_dev['text'] = df_dev['text'].apply(lambda x:give_emoji_free_text(x))\n",
    "# df_dev['label'] = df_dev.apply(lambda x:x[\"label\"][0],axis=1)\n",
    "# df_dev['label'] = df_dev['label'].astype('int')\n",
    "# df_dev['retweet_count'] = df_dev.apply(lambda x:sum(x[\"retweet_count\"]),axis=1)\n",
    "\n",
    "df_test['text'] = df_test.apply(lambda x:text_preprocessing(''.join(x[\"text\"])),axis=1)\n",
    "df_test['text'] = df_test['text'].apply(lambda x:x.lower().replace('\\n',''))\n",
    "df_test['text'] = df_test['text'].apply(lambda x:give_emoji_free_text(x))\n",
    "# df_test['retweet_count'] = df_test.apply(lambda x:sum(x[\"retweet_count\"]),axis=1)\n",
    "\n",
    "\n",
    "\n",
    "\n",
    "\n",
    "\n",
    "\n",
    "# df_train['text'] = df_train['text'].apply(lambda x:remove_URL(x))\n",
    "\n",
    "# df_train['text'] = df_train['text'].apply(lambda x:remove_html(x))\n",
    "# df_train['text'] = df_train['text'].apply(lambda x:remove_punct(x))\n",
    "\n",
    "# df_dev['text'] = df_dev['text'].apply(lambda x:remove_URL(x))\n",
    "\n",
    "# df_dev['text'] = df_dev['text'].apply(lambda x:remove_html(x))\n",
    "# df_dev['text'] = df_dev['text'].apply(lambda x:remove_punct(x))\n",
    "\n",
    "# df_test['text'] = df_test['text'].apply(lambda x:remove_URL(x))\n",
    "\n",
    "# df_test['text'] = df_test['text'].apply(lambda x:remove_html(x))\n",
    "# df_test['text'] = df_test['text'].apply(lambda x:remove_punct(x))\n",
    "\n",
    "# df_train = df_train.dropna(axis=0, how='any')\n",
    "# df_dev = df_dev.dropna(axis=0, how='any')\n",
    "# df_test = df_test.dropna(axis=0, how='any')"
   ]
  },
  {
   "cell_type": "code",
   "execution_count": 29,
   "metadata": {},
   "outputs": [
    {
     "data": {
      "text/plain": [
       "'america has made incredible strides despite what corrupt career politicians are trying to do to this presidency and to our country.  deaths from new coronavirus are expected to reach 113,000 in the united states in mid-june, according to a new projection based on nine epidemiological models and released on tuesday. make america great again trump diffusion pharmaceutical(dffn)573% upside!!!!. now in talks with the fda for covid-19 treatment! oh yeah, highest unemployment numbers in the history of the world, most  cases, most  deaths (more than rest of works)! so what are corrupt politicians doing?    imaginary diversion from   epic fail  death-count 5/19 in countries that took prompt, aggressive action:s. korea: 263japan: 749hong kong: 4taiwan: 7nz: 21au: 100the us where  called covid-19 a hoax &amp; ignored it for 70 days, faced huge deficit of ventilators/masks/ppesus covid-19 death toll tops 92,133  mr. president do you know that electricity shock can kill a virus in a human body but what should be the voltage with that i am not sure need to be tested. because electricity produces heat to our body and coronavirus can not survive to a place where the heat exist. fact.  incompetence ignorance and lies has  number one! we have 5 times the number  cases and deaths as the next worst outbreak.        so your virus came from italy and now, a study finds 70% of israel\\'s coronavirus cases could be linked to usa. so not only the biggest death rate of any country, but also the biggest spreader to another nation.  perhaps if you could correct this bs, you\\'d get more inner city votes!!!! he is doing it to himself.modi’s chloroquine ‘gift’ to trump and lives vs livelihoods during covid-19 lockdown  via  failed trade negotiations, failed disarmament talks, failed immigration policies, lowest job approval rating in modern times, failed covid-19 response, economic tailspin and skyrocketing federal deficit. all trump. trump is a pathelogical liar and a corrupt and ineffective leader oh yes i’m sure it was the career politicians that didn’t prepare our country for months after knowing the dangers of coronavirus oh no wait that was trump.  talking about yourself? even the guy behind you is covering his face from the bs spewing from your mouth (or covid19, same difference)  (1)david shulkin, trump\\'s former va secretary, said on twitter after the president\\'s remarks on tuesday: \"the risks of taking hydroxychloroquine are real, yet no data has shown it\\'s effective for covid19.  trump biggest liar of all times. he takes hydroxychloroquine and lupus drug to prevent covid19! he lost his mind, not fit for presidency at all. first inject bleach to yourself then take the drug works even better!  no more social distancing, fully open the economy, even don\\'t botter to make vaccine. the drug for covid19 prevention or even cure is hydroxychloroquine, president trump takes it so it should be good! no more nightmare, bye bye covid19. as president trump reveals in this coronavirus response, obama gate, and muller report,more and more great reason is the brave fight against corruption politicians! the world was being dominated by deep state because no one was willing to fight them. but mr.trump was different!  worth  listening to if your fear the   virus.   china\\'s real coronavirus cases more than 640000 - national university of defence technology database  compared to fdr, jfk or even reagan... you’ve ‘achieved’ nothing. and you suggested americans inject dininfectant into their bodies to cure covid19.  some countries lied about coronavirus cases just so they could reopen quickly we account for almost a third of global coronavirus deaths, but our population is only 331 million in a world of 7.8 billion people. do you call that much death “incredible strides”?   has been promoting a narrative about china’s cover-up with the pandemic. it is happening right here in our country. let’s see if he will respond with the same energy to our dishonesty. corrupt politicians like  ? yeah he’s ruining our country.93,000 americans dead from  36 million   really,really. who gives a crap about trump and his racist red faced politician. right now its about helping the american people, stopping covid-19 before thousands of more americans die. stop blaming china, no one controls what you read, trump is as much to blame as anyone else.'"
      ]
     },
     "execution_count": 29,
     "metadata": {},
     "output_type": "execute_result"
    }
   ],
   "source": [
    "df_test['text'][15]"
   ]
  },
  {
   "cell_type": "code",
   "execution_count": 30,
   "metadata": {},
   "outputs": [
    {
     "data": {
      "text/html": [
       "<div>\n",
       "<style scoped>\n",
       "    .dataframe tbody tr th:only-of-type {\n",
       "        vertical-align: middle;\n",
       "    }\n",
       "\n",
       "    .dataframe tbody tr th {\n",
       "        vertical-align: top;\n",
       "    }\n",
       "\n",
       "    .dataframe thead th {\n",
       "        text-align: right;\n",
       "    }\n",
       "</style>\n",
       "<table border=\"1\" class=\"dataframe\">\n",
       "  <thead>\n",
       "    <tr style=\"text-align: right;\">\n",
       "      <th></th>\n",
       "      <th>text</th>\n",
       "    </tr>\n",
       "  </thead>\n",
       "  <tbody>\n",
       "    <tr>\n",
       "      <th>0</th>\n",
       "      <td>according to the new york times, warner bros. ...</td>\n",
       "    </tr>\n",
       "    <tr>\n",
       "      <th>1</th>\n",
       "      <td>hurricane hanna has made landfall in texas.the...</td>\n",
       "    </tr>\n",
       "    <tr>\n",
       "      <th>2</th>\n",
       "      <td>monkeys on the loose in india with stolen coro...</td>\n",
       "    </tr>\n",
       "    <tr>\n",
       "      <th>3</th>\n",
       "      <td>“if trump felt comfortable having it here, the...</td>\n",
       "    </tr>\n",
       "    <tr>\n",
       "      <th>4</th>\n",
       "      <td>disturbing: alabama officials say some student...</td>\n",
       "    </tr>\n",
       "    <tr>\n",
       "      <th>...</th>\n",
       "      <td>...</td>\n",
       "    </tr>\n",
       "    <tr>\n",
       "      <th>15958</th>\n",
       "      <td>i wonder how many lives could’ve been saved if...</td>\n",
       "    </tr>\n",
       "    <tr>\n",
       "      <th>15959</th>\n",
       "      <td>the  front page on 17th march. the first line ...</td>\n",
       "    </tr>\n",
       "    <tr>\n",
       "      <th>15960</th>\n",
       "      <td>trump just completed the racism trifecta in a ...</td>\n",
       "    </tr>\n",
       "    <tr>\n",
       "      <th>15961</th>\n",
       "      <td>here are a few of my photographs from today’s ...</td>\n",
       "    </tr>\n",
       "    <tr>\n",
       "      <th>15962</th>\n",
       "      <td>‘it’s gone’: bill de blasio says nyc facing $9...</td>\n",
       "    </tr>\n",
       "  </tbody>\n",
       "</table>\n",
       "<p>15963 rows × 1 columns</p>\n",
       "</div>"
      ],
      "text/plain": [
       "                                                    text\n",
       "0      according to the new york times, warner bros. ...\n",
       "1      hurricane hanna has made landfall in texas.the...\n",
       "2      monkeys on the loose in india with stolen coro...\n",
       "3      “if trump felt comfortable having it here, the...\n",
       "4      disturbing: alabama officials say some student...\n",
       "...                                                  ...\n",
       "15958  i wonder how many lives could’ve been saved if...\n",
       "15959  the  front page on 17th march. the first line ...\n",
       "15960  trump just completed the racism trifecta in a ...\n",
       "15961  here are a few of my photographs from today’s ...\n",
       "15962  ‘it’s gone’: bill de blasio says nyc facing $9...\n",
       "\n",
       "[15963 rows x 1 columns]"
      ]
     },
     "execution_count": 30,
     "metadata": {},
     "output_type": "execute_result"
    }
   ],
   "source": [
    "df_test"
   ]
  },
  {
   "cell_type": "code",
   "execution_count": 31,
   "metadata": {},
   "outputs": [],
   "source": [
    "df_test.to_csv('covid.csv', index = False)"
   ]
  },
  {
   "cell_type": "code",
   "execution_count": 32,
   "metadata": {},
   "outputs": [],
   "source": [
    "df_test = pd.read_csv('/Users/yuweng/Desktop/task1/covid.csv')"
   ]
  },
  {
   "cell_type": "code",
   "execution_count": 33,
   "metadata": {},
   "outputs": [
    {
     "data": {
      "text/plain": [
       "text    True\n",
       "dtype: bool"
      ]
     },
     "execution_count": 33,
     "metadata": {},
     "output_type": "execute_result"
    }
   ],
   "source": [
    "df_test.isnull().any()"
   ]
  },
  {
   "cell_type": "code",
   "execution_count": 34,
   "metadata": {},
   "outputs": [],
   "source": [
    "is_NaN = df_test.isnull()\n",
    "row_has_NaN = is_NaN.any(axis=1)\n",
    "rows_with_NaN = df_test[row_has_NaN]"
   ]
  },
  {
   "cell_type": "code",
   "execution_count": 35,
   "metadata": {},
   "outputs": [
    {
     "data": {
      "text/html": [
       "<div>\n",
       "<style scoped>\n",
       "    .dataframe tbody tr th:only-of-type {\n",
       "        vertical-align: middle;\n",
       "    }\n",
       "\n",
       "    .dataframe tbody tr th {\n",
       "        vertical-align: top;\n",
       "    }\n",
       "\n",
       "    .dataframe thead th {\n",
       "        text-align: right;\n",
       "    }\n",
       "</style>\n",
       "<table border=\"1\" class=\"dataframe\">\n",
       "  <thead>\n",
       "    <tr style=\"text-align: right;\">\n",
       "      <th></th>\n",
       "      <th>text</th>\n",
       "    </tr>\n",
       "  </thead>\n",
       "  <tbody>\n",
       "    <tr>\n",
       "      <th>2545</th>\n",
       "      <td>NaN</td>\n",
       "    </tr>\n",
       "    <tr>\n",
       "      <th>3585</th>\n",
       "      <td>NaN</td>\n",
       "    </tr>\n",
       "    <tr>\n",
       "      <th>4649</th>\n",
       "      <td>NaN</td>\n",
       "    </tr>\n",
       "    <tr>\n",
       "      <th>8890</th>\n",
       "      <td>NaN</td>\n",
       "    </tr>\n",
       "    <tr>\n",
       "      <th>9396</th>\n",
       "      <td>NaN</td>\n",
       "    </tr>\n",
       "    <tr>\n",
       "      <th>12562</th>\n",
       "      <td>NaN</td>\n",
       "    </tr>\n",
       "    <tr>\n",
       "      <th>15123</th>\n",
       "      <td>NaN</td>\n",
       "    </tr>\n",
       "    <tr>\n",
       "      <th>15887</th>\n",
       "      <td>NaN</td>\n",
       "    </tr>\n",
       "  </tbody>\n",
       "</table>\n",
       "</div>"
      ],
      "text/plain": [
       "      text\n",
       "2545   NaN\n",
       "3585   NaN\n",
       "4649   NaN\n",
       "8890   NaN\n",
       "9396   NaN\n",
       "12562  NaN\n",
       "15123  NaN\n",
       "15887  NaN"
      ]
     },
     "execution_count": 35,
     "metadata": {},
     "output_type": "execute_result"
    }
   ],
   "source": [
    "rows_with_NaN"
   ]
  },
  {
   "cell_type": "code",
   "execution_count": 36,
   "metadata": {},
   "outputs": [
    {
     "data": {
      "text/plain": [
       "text    True\n",
       "dtype: bool"
      ]
     },
     "execution_count": 36,
     "metadata": {},
     "output_type": "execute_result"
    }
   ],
   "source": [
    "# df_test.dropna(axis=0, how='any', inplace=True)\n",
    "df_test.isnull().any()"
   ]
  },
  {
   "cell_type": "code",
   "execution_count": 37,
   "metadata": {},
   "outputs": [],
   "source": [
    "# df_test.to_csv('covid.csv',index= False)"
   ]
  },
  {
   "cell_type": "code",
   "execution_count": null,
   "metadata": {},
   "outputs": [],
   "source": []
  },
  {
   "cell_type": "code",
   "execution_count": null,
   "metadata": {},
   "outputs": [],
   "source": []
  }
 ],
 "metadata": {
  "interpreter": {
   "hash": "1efdf83da36bd9fc32e0556c4f59ed9a03a315f474542f72e7cd76a34233f413"
  },
  "kernelspec": {
   "display_name": "Python 3.9.12 ('base')",
   "language": "python",
   "name": "python3"
  },
  "language_info": {
   "codemirror_mode": {
    "name": "ipython",
    "version": 3
   },
   "file_extension": ".py",
   "mimetype": "text/x-python",
   "name": "python",
   "nbconvert_exporter": "python",
   "pygments_lexer": "ipython3",
   "version": "3.9.7"
  },
  "orig_nbformat": 4
 },
 "nbformat": 4,
 "nbformat_minor": 2
}
